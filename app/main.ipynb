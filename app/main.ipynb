{
 "cells": [
  {
   "cell_type": "code",
   "execution_count": null,
   "metadata": {},
   "outputs": [],
   "source": [
    "%pip install -qq --upgrade pip\n",
    "%pip install --upgrade -r requirements.txt"
   ]
  },
  {
   "cell_type": "code",
   "execution_count": null,
   "metadata": {},
   "outputs": [],
   "source": [
    "from decouple import Config, RepositoryEnv\n",
    "\n",
    "config = Config(RepositoryEnv(\".env.sample\"))\n",
    "\n",
    "DEPLOY_ENV = config('DEPLOY_ENV', cast=str)\n",
    "\n",
    "print(f\"DEPLOY_ENV: {DEPLOY_ENV}\")"
   ]
  }
 ],
 "nbformat": 4,
 "nbformat_minor": 2
}
